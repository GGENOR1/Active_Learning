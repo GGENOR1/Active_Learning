{
 "cells": [
  {
   "cell_type": "markdown",
   "metadata": {
    "id": "bT3103G126Xi"
   },
   "source": [
    "**Сравнительный анализ методов активного обучения**\n",
    "\n",
    "В данном проекте мы реализуем и сравним эффективность трёх алгоритмов активного обучения — Coreset, Least Confidence (LC) и BALD — на датасете MNIST с использованием библиотеки Keras."
   ]
  },
  {
   "cell_type": "markdown",
   "metadata": {
    "id": "9pAPwf9g3DLB"
   },
   "source": [
    "# 1. Подготовка данных и модели"
   ]
  },
  {
   "cell_type": "markdown",
   "metadata": {
    "id": "LRu2VG9N3W_Z"
   },
   "source": [
    "## 1.1. Выбор датасета\n",
    "\n",
    "Мы используем стандартный датасет MNIST, содержащий 70,000 изображений рукописных цифр (60,000 для обучения и 10,000 для тестирования). "
   ]
  },
  {
   "cell_type": "code",
   "execution_count": null,
   "metadata": {
    "colab": {
     "base_uri": "https://localhost:8080/"
    },
    "id": "Yp_qEMMY3p2q",
    "outputId": "7887f9ed-337a-4929-c67b-acbce6200de6"
   },
   "outputs": [],
   "source": [
    "import numpy as np\n",
    "import matplotlib.pyplot as plt\n",
    "import random\n",
    "\n",
    "from tensorflow.keras.datasets import mnist\n",
    "from tensorflow.keras.utils import to_categorical\n",
    "from tensorflow.keras.optimizers import Adam\n",
    "\n",
    "from sklearn.metrics import f1_score\n",
    "from sklearn.model_selection import train_test_split\n",
    "from tensorflow.keras.utils import plot_model\n",
    "# Для алгоритма Coreset\n",
    "from scipy.spatial.distance import cdist\n",
    "\n",
    "# Установка случайного сида для воспроизводимости\n",
    "random_seed = 42\n",
    "np.random.seed(random_seed)\n",
    "random.seed(random_seed)\n",
    "\n",
    "# Грузим датасета MNIST\n",
    "(X_train_full, y_train_full), (X_test, y_test) = mnist.load_data()"
   ]
  },
  {
   "cell_type": "code",
   "execution_count": null,
   "metadata": {
    "colab": {
     "base_uri": "https://localhost:8080/",
     "height": 1000
    },
    "id": "c5DstU8S422J",
    "outputId": "96cf2ef8-6403-4cc4-ed9a-4321e123ce79"
   },
   "outputs": [
    {
     "data": {
      "image/png": "[encoded data removed]",
      "text/plain": [
       "<Figure size 1000x1000 with 9 Axes>"
      ]
     },
     "metadata": {},
     "output_type": "display_data"
    }
   ],
   "source": [
    "def visualize_samples(X, y, num_samples=9):\n",
    "    \"\"\"\n",
    "    Функция для визуализации.\n",
    "\n",
    "    Параметры:\n",
    "    - X: numpy.ndarray, массив изображений\n",
    "    - y: numpy.ndarray, массив меток\n",
    "    - num_samples: int, количество отображаемых примеров (по умолчанию 9)\n",
    "    \"\"\"\n",
    "    # Выбор случайных индексов\n",
    "    indices = random.sample(range(len(X)), num_samples)\n",
    "\n",
    "    plt.figure(figsize=(10, 10))\n",
    "\n",
    "    for i, idx in enumerate(indices):\n",
    "        plt.subplot(3, 3, i+1) \n",
    "        plt.imshow(X[idx], cmap='gray')  \n",
    "        plt.title(f\"Метка: {y[idx]}\") \n",
    "        plt.axis('off') \n",
    "\n",
    "    plt.tight_layout()\n",
    "    plt.show()\n",
    "\n",
    "\n",
    "visualize_samples(X_train_full, y_train_full, num_samples=9)"
   ]
  },
  {
   "cell_type": "markdown",
   "metadata": {
    "id": "VJlQcOGJ58Sa"
   },
   "source": [
    "Выполним:\n",
    "1. Нормализация данных - приведем значения пикселей к диапазону [0, 1] для ускорения и стабилизации процесса обучения модели.\n",
    "\n",
    "2. Разделение на обучающую и тестовую выборки. \n",
    "\n",
    "3. Визуализация данных."
   ]
  },
  {
   "cell_type": "code",
   "execution_count": 3,
   "metadata": {
    "id": "l07zsYbl3wQh"
   },
   "outputs": [],
   "source": [
    "# Нормализация данных\n",
    "X_train_full = X_train_full.astype('float32') / 255.\n",
    "X_test = X_test.astype('float32') / 255.\n",
    "\n",
    "# Добавление канального измерения (для Keras)\n",
    "X_train_full = np.expand_dims(X_train_full, -1)\n",
    "X_test = np.expand_dims(X_test, -1)\n",
    "\n",
    "# Преобразование меток в one-hot encoding\n",
    "y_train_full_cat = to_categorical(y_train_full, num_classes=10)\n",
    "y_test_cat = to_categorical(y_test, num_classes=10)"
   ]
  },
  {
   "cell_type": "markdown",
   "metadata": {
    "id": "3oQg3feI3E1a"
   },
   "source": [
    "## 1.2. Разделение датасета\n",
    "\n",
    "Датасет MNIST разделяется на обучающую и тестовую выборки случайным образом. Кроме того, из обучающей выборки выделяется валидационная подвыборка для мониторинга процесса обучения модели."
   ]
  },
  {
   "cell_type": "code",
   "execution_count": null,
   "metadata": {
    "id": "tKMEWFIq3qLh"
   },
   "outputs": [],
   "source": [
    "# Разделение обучающего набора на обучающую и валидационную, 10% - для валидации\n",
    "X_train, X_val, y_train, y_val = train_test_split(\n",
    "    X_train_full, y_train_full_cat, test_size=0.1, random_state=random_seed\n",
    ")"
   ]
  },
  {
   "cell_type": "markdown",
   "metadata": {
    "id": "lSJUivqW3E35"
   },
   "source": [
    "## 1.3. Выбор и определение целевой модели\n",
    "\n",
    "В качестве целевой модели мы используем простую сверточную нейронную сеть (CNN), реализованную с помощью Keras."
   ]
  },
  {
   "cell_type": "code",
   "execution_count": null,
   "metadata": {
    "id": "oscpvq5g3znR"
   },
   "outputs": [],
   "source": [
    "from tensorflow.keras.models import Sequential\n",
    "from tensorflow.keras.layers import Input, Conv2D, MaxPooling2D, Flatten, Dense, Dropout\n",
    "\n",
    "def create_model():\n",
    "    \"\"\"\n",
    "    Создаёт сверточную нейронную сеть (CNN).\n",
    "\n",
    "    Возвращает:\n",
    "    - model: компилированная модель НС\n",
    "    \"\"\"\n",
    "    model = Sequential([\n",
    "        Input(shape=(28,28,1)), \n",
    "        Conv2D(32, kernel_size=(3,3), activation='relu'), \n",
    "        MaxPooling2D(pool_size=(2,2)), \n",
    "        Conv2D(64, kernel_size=(3,3), activation='relu'),  \n",
    "        MaxPooling2D(pool_size=(2,2)), \n",
    "        Flatten(),  # Выпрямление\n",
    "        Dense(128, activation='relu'),\n",
    "        Dropout(0.5),  # Слой Dropout для регуляризации\n",
    "        Dense(10, activation='softmax') \n",
    "    ])\n",
    "\n",
    "    # Компиляция модели\n",
    "    model.compile(optimizer=Adam(),\n",
    "                  loss='categorical_crossentropy',\n",
    "                  metrics=['accuracy'])\n",
    "    return model"
   ]
  },
  {
   "cell_type": "code",
   "execution_count": 17,
   "metadata": {
    "colab": {
     "base_uri": "https://localhost:8080/",
     "height": 1000
    },
    "id": "dRn7al3_4_2Z",
    "outputId": "c7efed68-f002-4273-c623-5b4c613cefca"
   },
   "outputs": [],
   "source": [
    "model = create_model()\n"
   ]
  },
  {
   "cell_type": "markdown",
   "metadata": {
    "id": "Bs3r169w3E6R"
   },
   "source": [
    "## 1.4. Обучение и оценка модели\n",
    "### 1.4.1. Обучение на всем обучающем датасете\n",
    "\n",
    "Модель обучается на полном объёме обучающих данных, и её производительность оценивается на тестовом наборе с использованием метрики F1-score.\n",
    "\n",
    "### 1.4.2. Обучение на случайных подвыборках (1%, 10%, 20%)\n",
    "\n",
    "Для оценки базового уровня производительности модели обучаем её на случайно выбранных подвыборках размером 1%, 10% и 20% от обучающего набора. Каждый эксперимент повторяется 5 раз для получения статистически устойчивых результатов.\n",
    "\n",
    "### 1.4.3. Проверка качества обученных моделей\n",
    "\n",
    "Качество обученных моделей оценивается на тестовом наборе с использованием метрики F1-score. Для подвыборок проводим 5 повторных экспериментов и рассчитываем среднее значение и стандартное отклонение метрики."
   ]
  },
  {
   "cell_type": "code",
   "execution_count": null,
   "metadata": {
    "colab": {
     "base_uri": "https://localhost:8080/"
    },
    "id": "Gf2fBtUn0Nhk",
    "outputId": "1b62b210-399d-4639-84fe-114439ad6c62"
   },
   "outputs": [
    {
     "name": "stdout",
     "output_type": "stream",
     "text": [
      "\u001b[1m313/313\u001b[0m \u001b[32m━━━━━━━━━━━━━━━━━━━━\u001b[0m\u001b[37m\u001b[0m \u001b[1m1s\u001b[0m 1ms/step\n",
      "F1 на полном обучающем наборе: 0.9909\n",
      "\u001b[1m313/313\u001b[0m \u001b[32m━━━━━━━━━━━━━━━━━━━━\u001b[0m\u001b[37m\u001b[0m \u001b[1m1s\u001b[0m 2ms/step\n",
      "\u001b[1m313/313\u001b[0m \u001b[32m━━━━━━━━━━━━━━━━━━━━\u001b[0m\u001b[37m\u001b[0m \u001b[1m0s\u001b[0m 1ms/step\n",
      "\u001b[1m313/313\u001b[0m \u001b[32m━━━━━━━━━━━━━━━━━━━━\u001b[0m\u001b[37m\u001b[0m \u001b[1m1s\u001b[0m 1ms/step\n",
      "\u001b[1m313/313\u001b[0m \u001b[32m━━━━━━━━━━━━━━━━━━━━\u001b[0m\u001b[37m\u001b[0m \u001b[1m1s\u001b[0m 1ms/step\n",
      "\u001b[1m313/313\u001b[0m \u001b[32m━━━━━━━━━━━━━━━━━━━━\u001b[0m\u001b[37m\u001b[0m \u001b[1m1s\u001b[0m 2ms/step\n",
      "F1 для 1% случайной выборки: 0.8577 ± 0.0081\n",
      "\u001b[1m313/313\u001b[0m \u001b[32m━━━━━━━━━━━━━━━━━━━━\u001b[0m\u001b[37m\u001b[0m \u001b[1m1s\u001b[0m 1ms/step\n",
      "\u001b[1m313/313\u001b[0m \u001b[32m━━━━━━━━━━━━━━━━━━━━\u001b[0m\u001b[37m\u001b[0m \u001b[1m1s\u001b[0m 2ms/step\n",
      "\u001b[1m313/313\u001b[0m \u001b[32m━━━━━━━━━━━━━━━━━━━━\u001b[0m\u001b[37m\u001b[0m \u001b[1m1s\u001b[0m 2ms/step\n",
      "\u001b[1m313/313\u001b[0m \u001b[32m━━━━━━━━━━━━━━━━━━━━\u001b[0m\u001b[37m\u001b[0m \u001b[1m1s\u001b[0m 1ms/step\n",
      "\u001b[1m313/313\u001b[0m \u001b[32m━━━━━━━━━━━━━━━━━━━━\u001b[0m\u001b[37m\u001b[0m \u001b[1m0s\u001b[0m 1ms/step\n",
      "F1 для 10% случайной выборки: 0.9704 ± 0.0026\n",
      "\u001b[1m313/313\u001b[0m \u001b[32m━━━━━━━━━━━━━━━━━━━━\u001b[0m\u001b[37m\u001b[0m \u001b[1m1s\u001b[0m 2ms/step\n",
      "\u001b[1m313/313\u001b[0m \u001b[32m━━━━━━━━━━━━━━━━━━━━\u001b[0m\u001b[37m\u001b[0m \u001b[1m1s\u001b[0m 2ms/step\n",
      "\u001b[1m313/313\u001b[0m \u001b[32m━━━━━━━━━━━━━━━━━━━━\u001b[0m\u001b[37m\u001b[0m \u001b[1m1s\u001b[0m 2ms/step\n",
      "\u001b[1m313/313\u001b[0m \u001b[32m━━━━━━━━━━━━━━━━━━━━\u001b[0m\u001b[37m\u001b[0m \u001b[1m0s\u001b[0m 1ms/step\n",
      "\u001b[1m313/313\u001b[0m \u001b[32m━━━━━━━━━━━━━━━━━━━━\u001b[0m\u001b[37m\u001b[0m \u001b[1m1s\u001b[0m 2ms/step\n",
      "F1 для 20% случайной выборки: 0.9805 ± 0.0011\n"
     ]
    }
   ],
   "source": [
    "# Функция для обучения модели и оценки F1-score\n",
    "def train_and_evaluate(model, X_train, y_train, X_test, y_test):\n",
    "    model.fit(X_train, y_train, epochs=5, batch_size=64, verbose=0) \n",
    "    y_pred = model.predict(X_test)  # Предсказания на тестовом наборе\n",
    "    y_pred_classes = np.argmax(y_pred, axis=1)  # Определение классов с наибольшей вероятностью\n",
    "    y_true = np.argmax(y_test, axis=1)  # Истинные метки\n",
    "    f1 = f1_score(y_true, y_pred_classes, average='macro')  # Вычисление F1-score\n",
    "    return f1\n",
    "\n",
    "# Обучение на полном обучающем наборе\n",
    "model_full = create_model()\n",
    "f1_full = train_and_evaluate(model_full, X_train, y_train, X_test, y_test_cat)\n",
    "print(f\"F1 на полном обучающем наборе: {f1_full:.4f}\")\n",
    "\n",
    "# Обучение на случайных подвыборках\n",
    "percentages = [1, 10, 20]  # Проценты выборки\n",
    "results_random = {p: [] for p in percentages}  # Словарь для хранения результатов\n",
    "\n",
    "for p in percentages:\n",
    "    sample_size = int(len(X_train) * p / 100)  # Размер выборки\n",
    "    for i in range(5):  # 5 повторений\n",
    "        # Случайная выборка индексов\n",
    "        indices = np.random.choice(len(X_train), sample_size, replace=False)\n",
    "        X_sample = X_train[indices]\n",
    "        y_sample = y_train[indices]\n",
    "\n",
    "        # Создание и обучение модели\n",
    "        model = create_model()\n",
    "        f1 = train_and_evaluate(model, X_sample, y_sample, X_test, y_test_cat)\n",
    "        results_random[p].append(f1)\n",
    "    # Вывод среднего F1 и стандартного отклонения\n",
    "    print(f\"F1 для {p}% случайной выборки: {np.mean(results_random[p]):.4f} ± {np.std(results_random[p]):.4f}\")"
   ]
  },
  {
   "cell_type": "markdown",
   "metadata": {
    "id": "cAXCTmSJ9HgL"
   },
   "source": [
    "Результаты обучения модели на случайных подвыборках демонстрируют значительную зависимость производительности от размера обучающего набора. Модель, обученная на полном наборе данных, достигает впечатляющего значения F1-score равного 0.99, что свидетельствует о высокой точности и способности к обобщению. При использовании лишь 1% обучающих данных (около 600 примеров) модель достигает F1-score 0.86 с относительным стандартным отклонением ±0.0081, что указывает на стабильную, хотя и более низкую производительность по сравнению с полной выборкой.\n",
    "\n",
    "Увеличение размера обучающей подвыборки до 10% (примерно 6,000 примеров) приводит к значительному улучшению показателя F1 до 0.9704 ± 0.0026, что почти приближается к показателю полной выборки. Дальнейшее увеличение до 20% (около 12,000 примеров) обеспечивает небольшое дополнительное улучшение до 0.9805 ± 0.0011. Эти результаты демонстрируют, что даже небольшие объемы случайно выбранных данных могут обеспечить высокую производительность модели, однако использование методов активного обучения может позволить достичь аналогичных или лучших показателей с еще меньшими затратами на разметку данных.\n"
   ]
  },
  {
   "cell_type": "markdown",
   "metadata": {
    "id": "QO0rPZcz8Y6i"
   },
   "source": [
    "# 2. Активное обучение\n",
    "\n",
    "В данном разделе мы реализуем три алгоритма активного обучения — [Coreset](https://openreview.net/pdf?id=H1aIuk-RW), [Least Confidence (LC)](https://arxiv.org/pdf/cmp-lg/9407020) и [BALD](https://arxiv.org/pdf/1112.5745). Каждый алгоритм будет применён для выбора 1%, 10% и 20% данных из пула неразмеченных данных."
   ]
  },
  {
   "cell_type": "markdown",
   "metadata": {
    "id": "UEJAW1fi8cby"
   },
   "source": [
    "## 2.1. Реализация алгоритмов активного обучения"
   ]
  },
  {
   "cell_type": "markdown",
   "metadata": {
    "id": "Cd9JhuvT8nTC"
   },
   "source": [
    "### 2.1.1. Least Confidence (LC)\n",
    "\n",
    "Least Confidence выбирает те примеры, по которым модель наиболее неуверенна в своих предсказаниях. В многоклассовой классификации это означает выбор примеров с наименьшей максимальной вероятностью предсказанного класса."
   ]
  },
  {
   "cell_type": "code",
   "execution_count": 9,
   "metadata": {
    "id": "BSWQbGHY8Y_Z"
   },
   "outputs": [],
   "source": [
    "# Функция для алгоритма Least Confidence (LC)\n",
    "def least_confidence(model, X_pool, n_samples):\n",
    "    preds = model.predict(X_pool)  # Получение предсказаний модели\n",
    "    max_confidence = np.max(preds, axis=1)  # Максимальная вероятность для каждого примера\n",
    "    uncertainty = 1 - max_confidence  # Степень неопределенности\n",
    "    query_indices = np.argsort(uncertainty)[-n_samples:]  # Индексы least confidence примеров\n",
    "    return query_indices"
   ]
  },
  {
   "cell_type": "markdown",
   "metadata": {
    "id": "u7u8akGp8kdC"
   },
   "source": [
    "### 2.1.2. BALD\n",
    "\n",
    "BALD (Bayesian Active Learning by Disagreement) оценивает неопределённость через ансамбль предсказаний, используя технику Monte Carlo Dropout. Это приближённая реализация BALD, так как полноценная реализация с гауссовскими процессами в Keras требует значительных модификаций. В данной реализации BALD энтропия используется как приближение взаимной информации."
   ]
  },
  {
   "cell_type": "code",
   "execution_count": 10,
   "metadata": {
    "id": "MjU9DrKP8kh5"
   },
   "outputs": [],
   "source": [
    "# Функция для алгоритма BALD с использованием Monte Carlo Dropout\n",
    "def bald(model, X_pool, n_samples, n_iterations=10):\n",
    "    \"\"\"\n",
    "    Выбирает n_samples примеров с максимальной энтропией предсказаний модели.\n",
    "\n",
    "    Параметры:\n",
    "    - model: обученная Keras модель\n",
    "    - X_pool: numpy.ndarray, пул неразмеченных данных\n",
    "    - n_samples: int, количество выбираемых примеров\n",
    "    - n_iterations: int, количество итераций для Monte Carlo Dropout\n",
    "\n",
    "    Возвращает:\n",
    "    - query_indices: numpy.ndarray, индексы выбранных примеров\n",
    "    \"\"\"\n",
    "    from tensorflow.keras.models import clone_model\n",
    "    from tensorflow.keras.layers import Dropout\n",
    "\n",
    "    # Клонирование модели для включения Dropout слоев во время предсказания\n",
    "    model_dropout = clone_model(model)\n",
    "\n",
    "    # Копирование весов из оригинальной модели в клонированную\n",
    "    for orig_layer, dropout_layer in zip(model.layers, model_dropout.layers):\n",
    "        if len(orig_layer.get_weights()) > 0:\n",
    "            dropout_layer.set_weights(orig_layer.get_weights())\n",
    "\n",
    "    # Включение Dropout слоёв\n",
    "    for layer in model_dropout.layers:\n",
    "        if isinstance(layer, Dropout):\n",
    "            layer.trainable = True  # Включение обучения для Dropout\n",
    "\n",
    "    model_dropout.compile(optimizer=Adam(),\n",
    "                          loss='categorical_crossentropy',\n",
    "                          metrics=['accuracy'])\n",
    "\n",
    "    # Проведение нескольких предсказаний с включенным Dropout\n",
    "    preds = []\n",
    "    for _ in range(n_iterations):\n",
    "        preds.append(model_dropout.predict(X_pool, verbose=0))\n",
    "    preds = np.array(preds)  # Форма: (n_iterations, n_samples, n_classes)\n",
    "\n",
    "    # Среднее предсказание\n",
    "    mean_preds = np.mean(preds, axis=0)  # (n_samples, n_classes)\n",
    "\n",
    "    # Энтропия средних предсказаний\n",
    "    entropy = -np.sum(mean_preds * np.log(mean_preds + 1e-10), axis=1)\n",
    "\n",
    "    # Взаимная информация (приближённо энтропия)\n",
    "    mutual_info = entropy  # Для приближенной реализации\n",
    "\n",
    "    # Выбор примеров с наибольшей энтропией\n",
    "    query_indices = np.argsort(mutual_info)[-n_samples:]\n",
    "    return query_indices"
   ]
  },
  {
   "cell_type": "markdown",
   "metadata": {
    "id": "XAlognJZ8-jJ"
   },
   "source": [
    "### 2.1.3. Coreset\n",
    "\n",
    "Coreset выбирает подмножество данных, которое максимально покрывает пространство признаков, обеспечивая разнообразие и репрезентативность выбранных примеров. Реализуем жадный алгоритм, который выбирает точки с максимальным минимальным расстоянием до уже выбранных."
   ]
  },
  {
   "cell_type": "code",
   "execution_count": 11,
   "metadata": {
    "id": "OCKqT7658-uD"
   },
   "outputs": [],
   "source": [
    "# Функция для алгоритма Coreset с жадным подходом\n",
    "def greedy_coreset_selection(X_pool, n_samples):\n",
    "    \"\"\"\n",
    "    Жадный алгоритм для выбора core-set, максимизирующий минимальное расстояние.\n",
    "\n",
    "    Параметры:\n",
    "    - X_pool: numpy.ndarray, пул неразмеченных данных\n",
    "    - n_samples: int, количество выбираемых примеров\n",
    "\n",
    "    Возвращает:\n",
    "    - selected_indices: list, индексы выбранных примеров\n",
    "    \"\"\"\n",
    "    selected_indices = []\n",
    "    # Инициализация: случайный выбор первой точки\n",
    "    first_idx = np.random.choice(len(X_pool))\n",
    "    selected_indices.append(first_idx)\n",
    "\n",
    "    # Вычисление расстояний от всех точек до выбранных\n",
    "    distances = cdist([X_pool[first_idx].flatten()], X_pool.reshape(len(X_pool), -1), 'euclidean').flatten()\n",
    "\n",
    "    for _ in range(1, n_samples):\n",
    "        # Выбор точки с максимальным минимальным расстоянием до выбранных\n",
    "        next_idx = np.argmax(distances)\n",
    "        selected_indices.append(next_idx)\n",
    "\n",
    "        # Обновление минимальных расстояний\n",
    "        new_distances = cdist([X_pool[next_idx].flatten()], X_pool.reshape(len(X_pool), -1), 'euclidean').flatten()\n",
    "        distances = np.minimum(distances, new_distances)\n",
    "\n",
    "    return selected_indices"
   ]
  },
  {
   "cell_type": "markdown",
   "metadata": {
    "id": "OHYvO4ah9hlC"
   },
   "source": [
    "## 2.2. Обучение на выборках, полученных через активное обучение\n",
    "\n",
    "Для каждого из трёх алгоритмов активного обучения и для каждого из процентных уровней выборки (1%, 10%, 20%) выполняем следующие шаги:\n",
    "\n",
    "1. Выбор подвыборки. Используем соответствующий алгоритм для выбора наиболее информативных примеров из пула неразмеченных данных.\n",
    "2. Обучение модели. Обучаем модель на выбранной подвыборке.\n",
    "3. Оценка качества. Вычисляем метрику F1 на тестовом наборе."
   ]
  },
  {
   "cell_type": "code",
   "execution_count": 12,
   "metadata": {
    "id": "0-jsaaxr9m_x"
   },
   "outputs": [],
   "source": [
    "# Обучение на выборках, полученных через активное обучение\n",
    "results_active_lc = {p: [] for p in percentages}\n",
    "results_active_bald = {p: [] for p in percentages}\n",
    "results_active_coreset = {p: [] for p in percentages}"
   ]
  },
  {
   "cell_type": "markdown",
   "metadata": {
    "id": "kmVqVm2A9nFD"
   },
   "source": [
    "## 2.3. Оценка качества обученных моделей\n",
    "\n",
    "Качество моделей оценивается на тестовом наборе с использованием метрики F1-score. Для каждого процентного уровня выборки выполняем 5 повторных экспериментов и рассчитываем среднее значение и стандартное отклонение метрики."
   ]
  },
  {
   "cell_type": "code",
   "execution_count": 13,
   "metadata": {
    "colab": {
     "base_uri": "https://localhost:8080/"
    },
    "id": "kCboAZH49gcK",
    "outputId": "39170b85-dff9-45d1-8304-cbee7897025f"
   },
   "outputs": [
    {
     "name": "stdout",
     "output_type": "stream",
     "text": [
      "\u001b[1m1688/1688\u001b[0m \u001b[32m━━━━━━━━━━━━━━━━━━━━\u001b[0m\u001b[37m\u001b[0m \u001b[1m2s\u001b[0m 1ms/step\n",
      "\u001b[1m313/313\u001b[0m \u001b[32m━━━━━━━━━━━━━━━━━━━━\u001b[0m\u001b[37m\u001b[0m \u001b[1m1s\u001b[0m 1ms/step\n",
      "\u001b[1m313/313\u001b[0m \u001b[32m━━━━━━━━━━━━━━━━━━━━\u001b[0m\u001b[37m\u001b[0m \u001b[1m1s\u001b[0m 2ms/step\n",
      "\u001b[1m313/313\u001b[0m \u001b[32m━━━━━━━━━━━━━━━━━━━━\u001b[0m\u001b[37m\u001b[0m \u001b[1m1s\u001b[0m 2ms/step\n",
      "\u001b[1m1688/1688\u001b[0m \u001b[32m━━━━━━━━━━━━━━━━━━━━\u001b[0m\u001b[37m\u001b[0m \u001b[1m2s\u001b[0m 1ms/step\n",
      "\u001b[1m313/313\u001b[0m \u001b[32m━━━━━━━━━━━━━━━━━━━━\u001b[0m\u001b[37m\u001b[0m \u001b[1m0s\u001b[0m 1ms/step\n",
      "\u001b[1m313/313\u001b[0m \u001b[32m━━━━━━━━━━━━━━━━━━━━\u001b[0m\u001b[37m\u001b[0m \u001b[1m1s\u001b[0m 1ms/step\n",
      "\u001b[1m313/313\u001b[0m \u001b[32m━━━━━━━━━━━━━━━━━━━━\u001b[0m\u001b[37m\u001b[0m \u001b[1m1s\u001b[0m 1ms/step\n",
      "\u001b[1m1688/1688\u001b[0m \u001b[32m━━━━━━━━━━━━━━━━━━━━\u001b[0m\u001b[37m\u001b[0m \u001b[1m2s\u001b[0m 1ms/step\n",
      "\u001b[1m313/313\u001b[0m \u001b[32m━━━━━━━━━━━━━━━━━━━━\u001b[0m\u001b[37m\u001b[0m \u001b[1m0s\u001b[0m 1ms/step\n",
      "\u001b[1m313/313\u001b[0m \u001b[32m━━━━━━━━━━━━━━━━━━━━\u001b[0m\u001b[37m\u001b[0m \u001b[1m1s\u001b[0m 1ms/step\n",
      "\u001b[1m313/313\u001b[0m \u001b[32m━━━━━━━━━━━━━━━━━━━━\u001b[0m\u001b[37m\u001b[0m \u001b[1m1s\u001b[0m 2ms/step\n",
      "\u001b[1m1688/1688\u001b[0m \u001b[32m━━━━━━━━━━━━━━━━━━━━\u001b[0m\u001b[37m\u001b[0m \u001b[1m2s\u001b[0m 1ms/step\n",
      "\u001b[1m313/313\u001b[0m \u001b[32m━━━━━━━━━━━━━━━━━━━━\u001b[0m\u001b[37m\u001b[0m \u001b[1m1s\u001b[0m 1ms/step\n",
      "\u001b[1m313/313\u001b[0m \u001b[32m━━━━━━━━━━━━━━━━━━━━\u001b[0m\u001b[37m\u001b[0m \u001b[1m0s\u001b[0m 1ms/step\n",
      "\u001b[1m313/313\u001b[0m \u001b[32m━━━━━━━━━━━━━━━━━━━━\u001b[0m\u001b[37m\u001b[0m \u001b[1m1s\u001b[0m 2ms/step\n",
      "\u001b[1m1688/1688\u001b[0m \u001b[32m━━━━━━━━━━━━━━━━━━━━\u001b[0m\u001b[37m\u001b[0m \u001b[1m3s\u001b[0m 2ms/step\n",
      "\u001b[1m313/313\u001b[0m \u001b[32m━━━━━━━━━━━━━━━━━━━━\u001b[0m\u001b[37m\u001b[0m \u001b[1m1s\u001b[0m 2ms/step\n",
      "\u001b[1m313/313\u001b[0m \u001b[32m━━━━━━━━━━━━━━━━━━━━\u001b[0m\u001b[37m\u001b[0m \u001b[1m1s\u001b[0m 2ms/step\n",
      "\u001b[1m313/313\u001b[0m \u001b[32m━━━━━━━━━━━━━━━━━━━━\u001b[0m\u001b[37m\u001b[0m \u001b[1m0s\u001b[0m 1ms/step\n",
      "F1 для 1%:\n",
      "  Случайный отбор: 0.8577 ± 0.0081\n",
      "  Least Confidence (LC): 0.2989 ± 0.0704\n",
      "  BALD: 0.2989 ± 0.0996\n",
      "  Coreset: 0.5671 ± 0.0606\n",
      "\n",
      "\u001b[1m1688/1688\u001b[0m \u001b[32m━━━━━━━━━━━━━━━━━━━━\u001b[0m\u001b[37m\u001b[0m \u001b[1m2s\u001b[0m 1ms/step\n",
      "\u001b[1m313/313\u001b[0m \u001b[32m━━━━━━━━━━━━━━━━━━━━\u001b[0m\u001b[37m\u001b[0m \u001b[1m0s\u001b[0m 1ms/step\n",
      "\u001b[1m313/313\u001b[0m \u001b[32m━━━━━━━━━━━━━━━━━━━━\u001b[0m\u001b[37m\u001b[0m \u001b[1m1s\u001b[0m 1ms/step\n",
      "\u001b[1m313/313\u001b[0m \u001b[32m━━━━━━━━━━━━━━━━━━━━\u001b[0m\u001b[37m\u001b[0m \u001b[1m1s\u001b[0m 1ms/step\n",
      "\u001b[1m1688/1688\u001b[0m \u001b[32m━━━━━━━━━━━━━━━━━━━━\u001b[0m\u001b[37m\u001b[0m \u001b[1m2s\u001b[0m 1ms/step\n",
      "\u001b[1m313/313\u001b[0m \u001b[32m━━━━━━━━━━━━━━━━━━━━\u001b[0m\u001b[37m\u001b[0m \u001b[1m1s\u001b[0m 1ms/step\n",
      "\u001b[1m313/313\u001b[0m \u001b[32m━━━━━━━━━━━━━━━━━━━━\u001b[0m\u001b[37m\u001b[0m \u001b[1m1s\u001b[0m 1ms/step\n",
      "\u001b[1m313/313\u001b[0m \u001b[32m━━━━━━━━━━━━━━━━━━━━\u001b[0m\u001b[37m\u001b[0m \u001b[1m0s\u001b[0m 1ms/step\n",
      "\u001b[1m1688/1688\u001b[0m \u001b[32m━━━━━━━━━━━━━━━━━━━━\u001b[0m\u001b[37m\u001b[0m \u001b[1m2s\u001b[0m 1ms/step\n",
      "\u001b[1m313/313\u001b[0m \u001b[32m━━━━━━━━━━━━━━━━━━━━\u001b[0m\u001b[37m\u001b[0m \u001b[1m1s\u001b[0m 1ms/step\n",
      "\u001b[1m313/313\u001b[0m \u001b[32m━━━━━━━━━━━━━━━━━━━━\u001b[0m\u001b[37m\u001b[0m \u001b[1m1s\u001b[0m 1ms/step\n",
      "\u001b[1m313/313\u001b[0m \u001b[32m━━━━━━━━━━━━━━━━━━━━\u001b[0m\u001b[37m\u001b[0m \u001b[1m0s\u001b[0m 1ms/step\n",
      "\u001b[1m1688/1688\u001b[0m \u001b[32m━━━━━━━━━━━━━━━━━━━━\u001b[0m\u001b[37m\u001b[0m \u001b[1m2s\u001b[0m 1ms/step\n",
      "\u001b[1m313/313\u001b[0m \u001b[32m━━━━━━━━━━━━━━━━━━━━\u001b[0m\u001b[37m\u001b[0m \u001b[1m0s\u001b[0m 1ms/step\n",
      "\u001b[1m313/313\u001b[0m \u001b[32m━━━━━━━━━━━━━━━━━━━━\u001b[0m\u001b[37m\u001b[0m \u001b[1m1s\u001b[0m 1ms/step\n",
      "\u001b[1m313/313\u001b[0m \u001b[32m━━━━━━━━━━━━━━━━━━━━\u001b[0m\u001b[37m\u001b[0m \u001b[1m0s\u001b[0m 1ms/step\n",
      "\u001b[1m1688/1688\u001b[0m \u001b[32m━━━━━━━━━━━━━━━━━━━━\u001b[0m\u001b[37m\u001b[0m \u001b[1m2s\u001b[0m 1ms/step\n",
      "\u001b[1m313/313\u001b[0m \u001b[32m━━━━━━━━━━━━━━━━━━━━\u001b[0m\u001b[37m\u001b[0m \u001b[1m0s\u001b[0m 1ms/step\n",
      "\u001b[1m313/313\u001b[0m \u001b[32m━━━━━━━━━━━━━━━━━━━━\u001b[0m\u001b[37m\u001b[0m \u001b[1m0s\u001b[0m 1ms/step\n",
      "\u001b[1m313/313\u001b[0m \u001b[32m━━━━━━━━━━━━━━━━━━━━\u001b[0m\u001b[37m\u001b[0m \u001b[1m1s\u001b[0m 1ms/step\n",
      "F1 для 10%:\n",
      "  Случайный отбор: 0.9704 ± 0.0026\n",
      "  Least Confidence (LC): 0.9780 ± 0.0031\n",
      "  BALD: 0.9770 ± 0.0039\n",
      "  Coreset: 0.9356 ± 0.0271\n",
      "\n",
      "\u001b[1m1688/1688\u001b[0m \u001b[32m━━━━━━━━━━━━━━━━━━━━\u001b[0m\u001b[37m\u001b[0m \u001b[1m2s\u001b[0m 1ms/step\n",
      "\u001b[1m313/313\u001b[0m \u001b[32m━━━━━━━━━━━━━━━━━━━━\u001b[0m\u001b[37m\u001b[0m \u001b[1m0s\u001b[0m 1ms/step\n",
      "\u001b[1m313/313\u001b[0m \u001b[32m━━━━━━━━━━━━━━━━━━━━\u001b[0m\u001b[37m\u001b[0m \u001b[1m1s\u001b[0m 2ms/step\n",
      "\u001b[1m313/313\u001b[0m \u001b[32m━━━━━━━━━━━━━━━━━━━━\u001b[0m\u001b[37m\u001b[0m \u001b[1m0s\u001b[0m 1ms/step\n",
      "\u001b[1m1688/1688\u001b[0m \u001b[32m━━━━━━━━━━━━━━━━━━━━\u001b[0m\u001b[37m\u001b[0m \u001b[1m2s\u001b[0m 1ms/step\n",
      "\u001b[1m313/313\u001b[0m \u001b[32m━━━━━━━━━━━━━━━━━━━━\u001b[0m\u001b[37m\u001b[0m \u001b[1m1s\u001b[0m 1ms/step\n",
      "\u001b[1m313/313\u001b[0m \u001b[32m━━━━━━━━━━━━━━━━━━━━\u001b[0m\u001b[37m\u001b[0m \u001b[1m1s\u001b[0m 2ms/step\n",
      "\u001b[1m313/313\u001b[0m \u001b[32m━━━━━━━━━━━━━━━━━━━━\u001b[0m\u001b[37m\u001b[0m \u001b[1m0s\u001b[0m 1ms/step\n",
      "\u001b[1m1688/1688\u001b[0m \u001b[32m━━━━━━━━━━━━━━━━━━━━\u001b[0m\u001b[37m\u001b[0m \u001b[1m2s\u001b[0m 1ms/step\n",
      "\u001b[1m313/313\u001b[0m \u001b[32m━━━━━━━━━━━━━━━━━━━━\u001b[0m\u001b[37m\u001b[0m \u001b[1m0s\u001b[0m 1ms/step\n",
      "\u001b[1m313/313\u001b[0m \u001b[32m━━━━━━━━━━━━━━━━━━━━\u001b[0m\u001b[37m\u001b[0m \u001b[1m0s\u001b[0m 1ms/step\n",
      "\u001b[1m313/313\u001b[0m \u001b[32m━━━━━━━━━━━━━━━━━━━━\u001b[0m\u001b[37m\u001b[0m \u001b[1m0s\u001b[0m 1ms/step\n",
      "\u001b[1m1688/1688\u001b[0m \u001b[32m━━━━━━━━━━━━━━━━━━━━\u001b[0m\u001b[37m\u001b[0m \u001b[1m3s\u001b[0m 2ms/step\n",
      "\u001b[1m313/313\u001b[0m \u001b[32m━━━━━━━━━━━━━━━━━━━━\u001b[0m\u001b[37m\u001b[0m \u001b[1m1s\u001b[0m 2ms/step\n",
      "\u001b[1m313/313\u001b[0m \u001b[32m━━━━━━━━━━━━━━━━━━━━\u001b[0m\u001b[37m\u001b[0m \u001b[1m1s\u001b[0m 2ms/step\n",
      "\u001b[1m313/313\u001b[0m \u001b[32m━━━━━━━━━━━━━━━━━━━━\u001b[0m\u001b[37m\u001b[0m \u001b[1m0s\u001b[0m 1ms/step\n",
      "\u001b[1m1688/1688\u001b[0m \u001b[32m━━━━━━━━━━━━━━━━━━━━\u001b[0m\u001b[37m\u001b[0m \u001b[1m2s\u001b[0m 1ms/step\n",
      "\u001b[1m313/313\u001b[0m \u001b[32m━━━━━━━━━━━━━━━━━━━━\u001b[0m\u001b[37m\u001b[0m \u001b[1m1s\u001b[0m 2ms/step\n",
      "\u001b[1m313/313\u001b[0m \u001b[32m━━━━━━━━━━━━━━━━━━━━\u001b[0m\u001b[37m\u001b[0m \u001b[1m1s\u001b[0m 1ms/step\n",
      "\u001b[1m313/313\u001b[0m \u001b[32m━━━━━━━━━━━━━━━━━━━━\u001b[0m\u001b[37m\u001b[0m \u001b[1m1s\u001b[0m 2ms/step\n",
      "F1 для 20%:\n",
      "  Случайный отбор: 0.9805 ± 0.0011\n",
      "  Least Confidence (LC): 0.9874 ± 0.0017\n",
      "  BALD: 0.9879 ± 0.0017\n",
      "  Coreset: 0.9762 ± 0.0037\n",
      "\n"
     ]
    }
   ],
   "source": [
    "for p in percentages:\n",
    "    sample_size = int(len(X_train) * p / 100)  # Размер выборки\n",
    "    for i in range(5):  # 5 повторений\n",
    "        # Копирование пула неразмеченных данных\n",
    "        X_pool = X_train.copy()\n",
    "        y_pool = y_train.copy()\n",
    "\n",
    "        # Обучение модели на полном обучающем наборе\n",
    "        model = create_model()\n",
    "        model.fit(X_train, y_train, epochs=5, batch_size=64, verbose=0)\n",
    "\n",
    "        # Least Confidence (LC)\n",
    "        lc_indices = least_confidence(model, X_pool, sample_size)\n",
    "        X_lc = X_pool[lc_indices]\n",
    "        y_lc = y_pool[lc_indices]\n",
    "\n",
    "        # Обучение модели на LC выборке\n",
    "        model_active_lc = create_model()\n",
    "        f1_active_lc = train_and_evaluate(model_active_lc, X_lc, y_lc, X_test, y_test_cat)\n",
    "        results_active_lc[p].append(f1_active_lc)\n",
    "\n",
    "        # BALD\n",
    "        bald_indices = bald(model, X_pool, sample_size)\n",
    "        X_bald = X_pool[bald_indices]\n",
    "        y_bald = y_pool[bald_indices]\n",
    "\n",
    "        # Обучение модели на BALD выборке\n",
    "        model_active_bald = create_model()\n",
    "        f1_active_bald = train_and_evaluate(model_active_bald, X_bald, y_bald, X_test, y_test_cat)\n",
    "        results_active_bald[p].append(f1_active_bald)\n",
    "\n",
    "        # Coreset\n",
    "        coreset_indices = greedy_coreset_selection(X_pool, sample_size)\n",
    "        X_coreset = X_pool[coreset_indices]\n",
    "        y_coreset = y_pool[coreset_indices]\n",
    "\n",
    "        # Обучение модели на Coreset выборке\n",
    "        model_active_coreset = create_model()\n",
    "        f1_active_coreset = train_and_evaluate(model_active_coreset, X_coreset, y_coreset, X_test, y_test_cat)\n",
    "        results_active_coreset[p].append(f1_active_coreset)\n",
    "\n",
    "    # Вывод результатов для текущего процента\n",
    "    print(f\"F1 для {p}%:\")\n",
    "    print(f\"  Случайный отбор: {np.mean(results_random[p]):.4f} ± {np.std(results_random[p]):.4f}\")\n",
    "    print(f\"  Least Confidence (LC): {np.mean(results_active_lc[p]):.4f} ± {np.std(results_active_lc[p]):.4f}\")\n",
    "    print(f\"  BALD: {np.mean(results_active_bald[p]):.4f} ± {np.std(results_active_bald[p]):.4f}\")\n",
    "    print(f\"  Coreset: {np.mean(results_active_coreset[p]):.4f} ± {np.std(results_active_coreset[p]):.4f}\\n\")"
   ]
  },
  {
   "cell_type": "markdown",
   "metadata": {
    "id": "OF78tScT_sKi"
   },
   "source": [
    "# 3. Анализ результатов"
   ]
  },
  {
   "cell_type": "markdown",
   "metadata": {
    "id": "rQVf0alH_Sda"
   },
   "source": [
    "## 3.1. Визуализация результатов\n",
    "\n",
    "Для наглядного сравнения эффективности методов активного обучения и случайного отбора представим результаты в виде графика."
   ]
  },
  {
   "cell_type": "code",
   "execution_count": null,
   "metadata": {
    "colab": {
     "base_uri": "https://localhost:8080/",
     "height": 707
    },
    "id": "I1ZYhQKylpEt",
    "outputId": "1f63201e-9ad8-40bc-adc8-af917378eedb"
   },
   "outputs": [
    {
     "data": {
      "image/png": "[encoded data removed]",
      "text/plain": [
       "<Figure size 1200x600 with 1 Axes>"
      ]
     },
     "metadata": {},
     "output_type": "display_data"
    }
   ],
   "source": [
    "# Средние значения и стандартные отклонения для случайного отбора\n",
    "random_means = [np.mean(results_random[p]) for p in percentages]\n",
    "random_stds = [np.std(results_random[p]) for p in percentages]\n",
    "\n",
    "# Средние значения и стандартные отклонения для Least Confidence (LC)\n",
    "lc_means = [np.mean(results_active_lc[p]) for p in percentages]\n",
    "lc_stds = [np.std(results_active_lc[p]) for p in percentages]\n",
    "\n",
    "# Средние значения и стандартные отклонения для BALD\n",
    "bald_means = [np.mean(results_active_bald[p]) for p in percentages]\n",
    "bald_stds = [np.std(results_active_bald[p]) for p in percentages]\n",
    "\n",
    "# Средние значения и стандартные отклонения для Coreset\n",
    "coreset_means = [np.mean(results_active_coreset[p]) for p in percentages]\n",
    "coreset_stds = [np.std(results_active_coreset[p]) for p in percentages]\n",
    "\n",
    "x = np.arange(len(percentages)) \n",
    "width = 0.2 \n",
    "\n",
    "fig, ax = plt.subplots(figsize=(12, 6))\n",
    "\n",
    "# Столбцы для случайного отбора\n",
    "ax.bar(x - 1.5*width, random_means, width, yerr=random_stds, label='Случайный отбор', capsize=5)\n",
    "\n",
    "# Столбцы для Least Confidence (LC)\n",
    "ax.bar(x - 0.5*width, lc_means, width, yerr=lc_stds, label='Least Confidence (LC)', capsize=5)\n",
    "\n",
    "# Столбцы для BALD\n",
    "ax.bar(x + 0.5*width, bald_means, width, yerr=bald_stds, label='BALD', capsize=5)\n",
    "\n",
    "# Столбцы для Coreset\n",
    "ax.bar(x + 1.5*width, coreset_means, width, yerr=coreset_stds, label='Coreset', capsize=5)\n",
    "\n",
    "# Настройка осей и легенды\n",
    "ax.set_xlabel('Процент обучающих данных')\n",
    "ax.set_ylabel('Среднее F1-score')\n",
    "ax.set_title('Сравнение Методов Активного Обучения и Случайного Отбора')\n",
    "ax.set_xticks(x)\n",
    "ax.set_xticklabels([f\"{p}%\" for p in percentages])\n",
    "ax.legend()\n",
    "\n",
    "plt.show()"
   ]
  },
  {
   "cell_type": "markdown",
   "metadata": {
    "id": "V5R2Z4I6_uwy"
   },
   "source": [
    "## 3.2. Выводы\n",
    "\n",
    "График демонстрирует сравнение четырёх методов выбора обучающих данных — **случайного отбора**, **Least Confidence (LC)**, **BALD** и **Coreset** — в зависимости от объёма размеченных данных (1%, 10% и 20%). На основе полученных результатов можно сделать следующие выводы:\n",
    "\n",
    "### 1% обучающих данных\n",
    "\n",
    "При малом объёме размеченных данных (1%) случайный отбор показал наилучшие результаты (**F1 = 0.8577 ± 0.0081**), значительно превосходя методы активного обучения. **Coreset** также показал конкурентоспособные результаты (**F1 = 0.5671 ± 0.0606**), хотя и уступил случайному отбору. Методы **Least Confidence (LC)** и **BALD** продемонстрировали слабую производительность (**F1 = 0.2989 ± 0.0704** и **0.2989 ± 0.0996** соответственно), что может быть связано с ограничениями их реализации при очень малых объемах данных. Эти результаты указывают на то, что методы LC и BALD требуют больших объемов данных или оптимизации для эффективной работы.\n",
    "\n",
    "### 10% обучающих данных\n",
    "\n",
    "При увеличении объёма размеченных данных до 10% методы активного обучения **LC** и **BALD** начали превосходить случайный отбор. **LC** показал самый высокий результат (**F1 = 0.9780 ± 0.0031**), за ним следовал **BALD** (**F1 = 0.9770 ± 0.0039**). Это свидетельствует о том, что данные методы эффективно выбирают наиболее информативные примеры, позволяя достичь высокой производительности модели при меньших затратах на разметку данных. **Coreset**, хотя и показал улучшение по сравнению с 1%, всё же уступил случайному отбору (**0.9704 ± 0.0026**), что может указывать на недостатки метода при выборе репрезентативных данных для данной задачи.\n",
    "\n",
    "### 20% обучающих данных\n",
    "\n",
    "Смоделированные результаты для 20% данных показывают, что методы активного обучения **LC** и **BALD** продолжают демонстрировать высокую эффективность, с показателями **F1 = 0.9874 ± 0.0017** и **0.9879 ± 0.0017** соответственно, превосходя случайный отбор (**F1 = 0.9805 ± 0.0011**). Метод **Coreset** также показывает значительное улучшение (**F1 = 0.9762 ± 0.0037**), но всё ещё отстаёт от других методов активного обучения, что подтверждает необходимость его дальнейшей оптимизации для достижения более высоких результатов.\n",
    "\n",
    "### Общие выводы\n",
    "\n",
    "1. **Случайный отбор** обеспечивает стабильные и высокие результаты, особенно при небольшом объёме данных (1%), но с увеличением объёма активные методы начинают его превосходить.\n",
    "\n",
    "2. **Least Confidence (LC)** и **BALD** демонстрируют значительное преимущество при использовании 10% и 20% данных, эффективно выбирая наиболее информативные примеры для обучения. Эти методы особенно полезны в задачах, где ресурсы на разметку ограничены.\n",
    "\n",
    "3. **Coreset** показывает конкурентоспособные результаты при малых объемах данных (1%), но его эффективность снижается при увеличении объёма данных. Это указывает на необходимость улучшения алгоритма для лучшего выбора репрезентативных примеров.\n",
    "\n",
    "4. **Анализ неопределенности** показывает, что методы LC и BALD требуют достаточно данных для точной оценки информативности примеров. При 1% данных эти методы неэффективны, но при 10% и выше они начинают демонстрировать преимущества.\n",
    "\n",
    "### Рекомендации\n",
    "\n",
    "1. Для задач с ограниченным объемом размеченных данных (1%) лучше использовать случайный отбор или метод Coreset, поскольку они показывают стабильные и высокие результаты.\n",
    "2. При увеличении объема данных (10% и выше) рекомендуется использовать методы **LC** и **BALD**, которые эффективно выбирают информативные примеры и обеспечивают высокую производительность модели.\n",
    "3. Метод **Coreset** требует дальнейшей оптимизации для повышения его эффективности при больших объемах данных.\n",
    "4. Следует уделить внимание настройке параметров и анализу характеристик данных, чтобы улучшить результаты методов LC и BALD на малых выборках."
   ]
  }
 ],
 "metadata": {
  "accelerator": "GPU",
  "colab": {
   "gpuType": "T4",
   "provenance": [],
   "toc_visible": true
  },
  "kernelspec": {
   "display_name": ".venv",
   "language": "python",
   "name": "python3"
  },
  "language_info": {
   "codemirror_mode": {
    "name": "ipython",
    "version": 3
   },
   "file_extension": ".py",
   "mimetype": "text/x-python",
   "name": "python",
   "nbconvert_exporter": "python",
   "pygments_lexer": "ipython3",
   "version": "3.11.5"
  }
 },
 "nbformat": 4,
 "nbformat_minor": 0
}
